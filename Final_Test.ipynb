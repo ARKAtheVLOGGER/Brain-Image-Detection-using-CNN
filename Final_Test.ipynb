{
  "cells": [
    {
      "cell_type": "code",
      "execution_count": 16,
      "metadata": {
        "id": "wZywS3m7NxwX"
      },
      "outputs": [],
      "source": [
        "import os\n",
        "import keras \n",
        "from keras.models import Sequential\n",
        "from keras.layers import Conv2D, MaxPooling2D, Flatten, Dense, Dropout, BatchNormalization\n",
        "from PIL import Image\n",
        "import numpy as np\n",
        "import pandas as pd\n",
        "import matplotlib.pyplot as plt\n",
        "\n",
        "from sklearn.model_selection import train_test_split\n",
        "from sklearn.preprocessing import OneHotEncoder "
      ]
    },
    {
      "cell_type": "code",
      "execution_count": 17,
      "metadata": {
        "id": "sbIWy4D2N-z3"
      },
      "outputs": [],
      "source": [
        "encoder = OneHotEncoder()\n",
        "encoder.fit([[0], [1]]) \n",
        "\n",
        "# 0 - Tumor\n",
        "# 1 - Normal\n",
        "\n",
        "data = []\n",
        "paths = []\n",
        "result = []\n",
        "\n",
        "for r, d, f in os.walk(r'D:\\\\Education\\\\Research Paper for Masters\\\\Brain Dataset\\\\yes'):\n",
        "    for file in f:\n",
        "        if '.jpg' in file:\n",
        "            paths.append(os.path.join(r, file))\n",
        "\n",
        "for path in paths:\n",
        "    img = Image.open(path)\n",
        "    img = img.resize((128,128))\n",
        "    img = np.array(img)\n",
        "    if(img.shape == (128,128,3)):\n",
        "        data.append(np.array(img))\n",
        "        result.append(encoder.transform([[0]]).toarray())"
      ]
    },
    {
      "cell_type": "code",
      "execution_count": 18,
      "metadata": {
        "colab": {
          "base_uri": "https://localhost:8080/"
        },
        "id": "CbrJUdM6OK_-",
        "outputId": "36e3917c-b3d5-4b6f-b163-2976b321d461"
      },
      "outputs": [
        {
          "data": {
            "text/plain": [
              "(2892, 128, 128, 3)"
            ]
          },
          "execution_count": 18,
          "metadata": {},
          "output_type": "execute_result"
        }
      ],
      "source": [
        "# This cell updates result list for images without tumor\n",
        "\n",
        "paths = []\n",
        "for r, d, f in os.walk(r\"D:\\\\Education\\\\Research Paper for Masters\\\\Brain Dataset\\\\no\"):\n",
        "    for file in f:\n",
        "        if '.jpg' in file:\n",
        "            paths.append(os.path.join(r, file))\n",
        "\n",
        "for path in paths:\n",
        "    img = Image.open(path)\n",
        "    img = img.resize((128,128))\n",
        "    img = np.array(img)\n",
        "    if(img.shape == (128,128,3)):\n",
        "        data.append(np.array(img))\n",
        "        result.append(encoder.transform([[1]]).toarray())       \n",
        "\n",
        "\n",
        "data = np.array(data)\n",
        "data.shape"
      ]
    },
    {
      "cell_type": "code",
      "execution_count": 19,
      "metadata": {
        "colab": {
          "base_uri": "https://localhost:8080/"
        },
        "id": "73VlSJ_pOPvE",
        "outputId": "03bb6286-86b7-4155-de2e-99af46158639"
      },
      "outputs": [
        {
          "name": "stdout",
          "output_type": "stream",
          "text": [
            "[[1. 0.]\n",
            " [1. 0.]\n",
            " [1. 0.]\n",
            " ...\n",
            " [0. 1.]\n",
            " [0. 1.]\n",
            " [0. 1.]]\n"
          ]
        }
      ],
      "source": [
        "result = np.array(result)\n",
        "len(result)\n",
        "result = result.reshape(2892,2)\n",
        "print(result)"
      ]
    },
    {
      "cell_type": "code",
      "execution_count": 20,
      "metadata": {
        "id": "j939-z6uOTWw"
      },
      "outputs": [],
      "source": [
        "x_train,x_test,y_train,y_test = train_test_split(data, result, test_size=0.2, shuffle=True, random_state=0)"
      ]
    },
    {
      "cell_type": "code",
      "execution_count": 21,
      "metadata": {
        "colab": {
          "base_uri": "https://localhost:8080/"
        },
        "id": "xe3NEq8wOXTD",
        "outputId": "0e9c017f-0877-4287-e152-a2741f725bd0"
      },
      "outputs": [
        {
          "name": "stdout",
          "output_type": "stream",
          "text": [
            "Epoch 1/11\n",
            "58/58 [==============================] - 80s 1s/step - loss: 13.7427 - accuracy: 0.7406 - val_loss: 1.8259 - val_accuracy: 0.6839\n",
            "Epoch 2/11\n",
            "58/58 [==============================] - 79s 1s/step - loss: 0.6205 - accuracy: 0.8180 - val_loss: 0.8964 - val_accuracy: 0.8256\n",
            "Epoch 3/11\n",
            "58/58 [==============================] - 79s 1s/step - loss: 0.2587 - accuracy: 0.9105 - val_loss: 1.3833 - val_accuracy: 0.8670\n",
            "Epoch 4/11\n",
            "58/58 [==============================] - 79s 1s/step - loss: 0.1062 - accuracy: 0.9680 - val_loss: 0.7154 - val_accuracy: 0.8929\n",
            "Epoch 5/11\n",
            "58/58 [==============================] - 79s 1s/step - loss: 0.1095 - accuracy: 0.9715 - val_loss: 0.1962 - val_accuracy: 0.9413\n",
            "Epoch 6/11\n",
            "58/58 [==============================] - 79s 1s/step - loss: 0.0536 - accuracy: 0.9849 - val_loss: 1.6301 - val_accuracy: 0.8549\n",
            "Epoch 7/11\n",
            "58/58 [==============================] - 79s 1s/step - loss: 0.0442 - accuracy: 0.9909 - val_loss: 0.5464 - val_accuracy: 0.9016\n",
            "Epoch 8/11\n",
            "58/58 [==============================] - 79s 1s/step - loss: 0.0688 - accuracy: 0.9862 - val_loss: 0.1340 - val_accuracy: 0.9706\n",
            "Epoch 9/11\n",
            "58/58 [==============================] - 82s 1s/step - loss: 0.0257 - accuracy: 0.9927 - val_loss: 0.4262 - val_accuracy: 0.9499\n",
            "Epoch 10/11\n",
            "58/58 [==============================] - 81s 1s/step - loss: 0.0072 - accuracy: 0.9974 - val_loss: 0.2805 - val_accuracy: 0.9706\n",
            "Epoch 11/11\n",
            "58/58 [==============================] - 75s 1s/step - loss: 0.0128 - accuracy: 0.9974 - val_loss: 0.4951 - val_accuracy: 0.9378\n"
          ]
        }
      ],
      "source": [
        "from tensorflow.keras.regularizers import l2\n",
        "from tensorflow.keras.initializers import HeUniform\n",
        "\n",
        "import tensorflow as tf\n",
        "\n",
        "model = Sequential()\n",
        "activation = 'relu'\n",
        "model.add(Conv2D(32, kernel_size=(2, 2), input_shape=(128, 128, 3), padding = 'Same'))\n",
        "model.add(Conv2D(32, kernel_size=(2, 2),  activation = activation, padding = 'Same'))\n",
        "\n",
        "\n",
        "model.add(BatchNormalization())\n",
        "model.add(MaxPooling2D(pool_size=(2, 2)))\n",
        "model.add(Dropout(0.25))\n",
        "\n",
        "model.add(Conv2D(64, kernel_size = (2,2), activation = activation, padding = 'Same'))\n",
        "model.add(Conv2D(64, kernel_size = (2,2), activation = activation, padding = 'Same'))\n",
        "\n",
        "model.add(BatchNormalization())\n",
        "model.add(MaxPooling2D(pool_size=(2,2), strides=(2,2)))\n",
        "model.add(Dropout(0.25))\n",
        "\n",
        "model.add(Flatten())\n",
        "\n",
        "model.add(Dense(512, activation='relu'))\n",
        "\n",
        "\n",
        "model.add(Dense(2 ,activation ='softmax'))\n",
        "\n",
        "model.compile(loss = \"categorical_crossentropy\", optimizer='rmsprop', metrics=['accuracy'])\n",
        "#print(model.summary())\n",
        "\n",
        "\n",
        "y_train.shape\n",
        "\n",
        "history = model.fit(x_train, y_train, epochs = 11, batch_size = 40, verbose = 1,validation_data = (x_test, y_test))"
      ]
    },
    {
      "cell_type": "code",
      "execution_count": 22,
      "metadata": {
        "id": "0ruvW6mDPiSt"
      },
      "outputs": [],
      "source": [
        "def names(number):\n",
        "    if number==0:\n",
        "        return 'it has  a Tumor'\n",
        "        a==1\n",
        "    else:\n",
        "        return 'there are no tumor'\n",
        "        a==0"
      ]
    },
    {
      "cell_type": "code",
      "execution_count": 1,
      "metadata": {
        "colab": {
          "base_uri": "https://localhost:8080/",
          "height": 301
        },
        "id": "0ifi1zdJPmP3",
        "outputId": "386eb1e7-f2c6-46f1-85eb-6950cf22a5a8"
      },
      "outputs": [
        {
          "ename": "NameError",
          "evalue": "name 'Image' is not defined",
          "output_type": "error",
          "traceback": [
            "\u001b[1;31m---------------------------------------------------------------------------\u001b[0m",
            "\u001b[1;31mNameError\u001b[0m                                 Traceback (most recent call last)",
            "\u001b[1;32m~\\AppData\\Local\\Temp/ipykernel_20412/1960540685.py\u001b[0m in \u001b[0;36m<module>\u001b[1;34m\u001b[0m\n\u001b[0;32m      1\u001b[0m \u001b[1;32mimport\u001b[0m \u001b[0mmatplotlib\u001b[0m\u001b[1;33m.\u001b[0m\u001b[0mpyplot\u001b[0m \u001b[1;32mas\u001b[0m \u001b[0mplt\u001b[0m\u001b[1;33m\u001b[0m\u001b[0m\n\u001b[1;32m----> 2\u001b[1;33m \u001b[0mimg\u001b[0m \u001b[1;33m=\u001b[0m \u001b[0mImage\u001b[0m\u001b[1;33m.\u001b[0m\u001b[0mopen\u001b[0m\u001b[1;33m(\u001b[0m\u001b[1;34mr\"D:\\\\Education\\\\Research Paper for Masters\\\\Brain Dataset\\\\pred\\\\pred7.jpg\"\u001b[0m\u001b[1;33m)\u001b[0m\u001b[1;33m\u001b[0m\u001b[0m\n\u001b[0m\u001b[0;32m      3\u001b[0m \u001b[0mplt\u001b[0m\u001b[1;33m.\u001b[0m\u001b[0mxlabel\u001b[0m\u001b[1;33m(\u001b[0m\u001b[1;34m'Sample Image'\u001b[0m\u001b[1;33m)\u001b[0m\u001b[1;33m\u001b[0m\u001b[0m\n\u001b[0;32m      4\u001b[0m \u001b[0mplt\u001b[0m\u001b[1;33m.\u001b[0m\u001b[0mimshow\u001b[0m\u001b[1;33m(\u001b[0m\u001b[0mimg\u001b[0m\u001b[1;33m)\u001b[0m\u001b[1;33m\u001b[0m\u001b[0m\n\u001b[0;32m      5\u001b[0m \u001b[0mx\u001b[0m \u001b[1;33m=\u001b[0m \u001b[0mnp\u001b[0m\u001b[1;33m.\u001b[0m\u001b[0marray\u001b[0m\u001b[1;33m(\u001b[0m\u001b[0mimg\u001b[0m\u001b[1;33m.\u001b[0m\u001b[0mresize\u001b[0m\u001b[1;33m(\u001b[0m\u001b[1;33m(\u001b[0m\u001b[1;36m128\u001b[0m\u001b[1;33m,\u001b[0m\u001b[1;36m128\u001b[0m\u001b[1;33m)\u001b[0m\u001b[1;33m)\u001b[0m\u001b[1;33m)\u001b[0m\u001b[1;33m\u001b[0m\u001b[0m\n",
            "\u001b[1;31mNameError\u001b[0m: name 'Image' is not defined"
          ]
        }
      ],
      "source": [
        "import matplotlib.pyplot as plt\n",
        "img = Image.open(r\"D:\\\\Education\\\\Research Paper for Masters\\\\Brain Dataset\\\\pred\\\\pred7.jpg\")\n",
        "plt.xlabel('Sample Image')\n",
        "plt.imshow(img)\n",
        "x = np.array(img.resize((128,128)))\n",
        "x = x.reshape(1,128,128,3)\n",
        "res = model.predict_on_batch(x)\n",
        "classification = np.where(res == np.amax(res))[1][0]\n",
        "\n",
        "print(str(res[0][0]*100) + '% Confidence ' + names(classification))"
      ]
    },
    {
      "cell_type": "code",
      "execution_count": 33,
      "metadata": {
        "colab": {
          "base_uri": "https://localhost:8080/"
        },
        "id": "YzSMhDa2QNx0",
        "outputId": "179d96b5-7722-4735-df61-b2962c198073"
      },
      "outputs": [
        {
          "name": "stdout",
          "output_type": "stream",
          "text": [
            "19/19 [==============================] - 3s 141ms/step - loss: 0.4951 - accuracy: 0.9378\n",
            "[0.49514371156692505, 0.9378238320350647]\n"
          ]
        }
      ],
      "source": [
        "print(model.evaluate(x_test, y_test))"
      ]
    },
    {
      "cell_type": "code",
      "execution_count": 34,
      "metadata": {
        "colab": {
          "base_uri": "https://localhost:8080/",
          "height": 573
        },
        "id": "AZKBIONnV2te",
        "outputId": "b25d3632-c2a9-40ea-f12d-fcac0bd487c5"
      },
      "outputs": [
        {
          "data": {
            "image/png": "[encoded data removed]",
            "text/plain": [
              "<Figure size 432x288 with 1 Axes>"
            ]
          },
          "metadata": {
            "needs_background": "light"
          },
          "output_type": "display_data"
        },
        {
          "data": {
            "image/png": "[encoded data removed]",
            "text/plain": [
              "<Figure size 432x288 with 1 Axes>"
            ]
          },
          "metadata": {
            "needs_background": "light"
          },
          "output_type": "display_data"
        }
      ],
      "source": [
        "#Graphing our training and validation\n",
        "acc = history.history['accuracy']\n",
        "val_acc = history.history['val_accuracy']\n",
        "loss = history.history['loss']\n",
        "val_loss = history.history['val_loss']\n",
        "epochs = range(len(acc))\n",
        "plt.plot(epochs, acc, 'r', label='Training accuracy')\n",
        "plt.plot(epochs, val_acc, 'b', label='Validation accuracy')\n",
        "plt.title('Training and validation accuracy')\n",
        "plt.ylabel('accuracy') \n",
        "plt.xlabel('epoch')\n",
        "plt.legend()\n",
        "plt.figure()\n",
        "plt.plot(epochs, loss, 'r', label='Training loss')\n",
        "plt.plot(epochs, val_loss, 'b', label='Validation loss')\n",
        "plt.title('Training and validation loss')\n",
        "plt.ylabel('loss') \n",
        "plt.xlabel('epoch')\n",
        "plt.legend()\n",
        "plt.show()"
      ]
    },
    {
      "cell_type": "code",
      "execution_count": 35,
      "metadata": {
        "colab": {
          "base_uri": "https://localhost:8080/"
        },
        "id": "qF461AGUV219",
        "outputId": "011ea401-8aec-45c7-e393-5fbdc557ff15"
      },
      "outputs": [
        {
          "name": "stdout",
          "output_type": "stream",
          "text": [
            "73/73 [==============================] - 10s 143ms/step - loss: 0.1586 - accuracy: 0.9771\n"
          ]
        },
        {
          "data": {
            "text/plain": [
              "[0.15855655074119568, 0.9770860075950623]"
            ]
          },
          "execution_count": 35,
          "metadata": {},
          "output_type": "execute_result"
        }
      ],
      "source": [
        "model.evaluate(x_train, y_train)\n",
        "\n",
        "\n",
        "#print(\"[INFO] Loss: {}\".format(eval_loss))\n"
      ]
    },
    {
      "cell_type": "code",
      "execution_count": 36,
      "metadata": {
        "colab": {
          "base_uri": "https://localhost:8080/"
        },
        "id": "kvZVYBb3B7zA",
        "outputId": "6b60a57e-55bd-40f6-ccf2-d845f73a59d8"
      },
      "outputs": [
        {
          "data": {
            "text/plain": [
              "99.74059462547302"
            ]
          },
          "execution_count": 36,
          "metadata": {},
          "output_type": "execute_result"
        }
      ],
      "source": [
        "acc[10]*100 #accuracy %"
      ]
    }
  ],
  "metadata": {
    "accelerator": "TPU",
    "colab": {
      "collapsed_sections": [],
      "name": "Final Test.ipynb",
      "provenance": []
    },
    "kernelspec": {
      "display_name": "Python 3.7.0 64-bit",
      "language": "python",
      "name": "python3"
    },
    "language_info": {
      "codemirror_mode": {
        "name": "ipython",
        "version": 3
      },
      "file_extension": ".py",
      "mimetype": "text/x-python",
      "name": "python",
      "nbconvert_exporter": "python",
      "pygments_lexer": "ipython3",
      "version": "3.7.0"
    },
    "vscode": {
      "interpreter": {
        "hash": "fe575950b142f9edb072b5724f38be11e7467437ce9e27b88092d5936c9885e6"
      }
    }
  },
  "nbformat": 4,
  "nbformat_minor": 0
}
