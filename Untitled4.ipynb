{
  "nbformat": 4,
  "nbformat_minor": 0,
  "metadata": {
    "colab": {
      "name": "Untitled4.ipynb",
      "provenance": [],
      "collapsed_sections": []
    },
    "kernelspec": {
      "name": "python3",
      "display_name": "Python 3"
    },
    "language_info": {
      "name": "python"
    }
  },
  "cells": [
    {
      "cell_type": "code",
      "metadata": {
        "id": "NOewv0AaMbNQ"
      },
      "source": [
        "import os\n",
        "import keras \n",
        "from keras.models import Sequential\n",
        "from keras.layers import Conv2D, MaxPooling2D, Flatten, Dense, Dropout, BatchNormalization\n",
        "from PIL import Image\n",
        "import numpy as np\n",
        "import pandas as pd\n",
        "import matplotlib.pyplot as plt\n",
        "plt.style.use('dark_background')\n",
        "from sklearn.model_selection import train_test_split\n",
        "from sklearn.preprocessing import OneHotEncoder "
      ],
      "execution_count": 1,
      "outputs": []
    },
    {
      "cell_type": "code",
      "metadata": {
        "id": "WdaPK7q9Ml1L"
      },
      "source": [
        "\n",
        "encoder = OneHotEncoder()\n",
        "encoder.fit([[0], [1]]) \n",
        "\n",
        "# 0 - Tumor\n",
        "# 1 - Normal\n",
        "\n",
        "data = []\n",
        "paths = []\n",
        "result = []\n",
        "\n",
        "for r, d, f in os.walk(r'/content/drive/MyDrive/Brain Dataset/yes'):\n",
        "    for file in f:\n",
        "        if '.jpg' in file:\n",
        "            paths.append(os.path.join(r, file))\n",
        "\n",
        "for path in paths:\n",
        "    img = Image.open(path)\n",
        "    img = img.resize((128,128))\n",
        "    img = np.array(img)\n",
        "    if(img.shape == (128,128,3)):\n",
        "        data.append(np.array(img))\n",
        "        result.append(encoder.transform([[0]]).toarray())"
      ],
      "execution_count": 2,
      "outputs": []
    },
    {
      "cell_type": "code",
      "metadata": {
        "colab": {
          "base_uri": "https://localhost:8080/"
        },
        "id": "t_NRYucvNzwe",
        "outputId": "bc2a4e32-1cd1-4312-a22e-62862575b290"
      },
      "source": [
        "\n",
        " # This cell updates result list for images without tumor\n",
        "\n",
        "paths = []\n",
        "for r, d, f in os.walk(r\"/content/drive/MyDrive/Brain Dataset/no\"):\n",
        "    for file in f:\n",
        "        if '.jpg' in file:\n",
        "            paths.append(os.path.join(r, file))\n",
        "\n",
        "for path in paths:\n",
        "    img = Image.open(path)\n",
        "    img = img.resize((128,128))\n",
        "    img = np.array(img)\n",
        "    if(img.shape == (128,128,3)):\n",
        "        data.append(np.array(img))\n",
        "        result.append(encoder.transform([[1]]).toarray())       \n",
        "\n",
        "\n",
        "data = np.array(data)\n",
        "data.shape"
      ],
      "execution_count": 3,
      "outputs": [
        {
          "output_type": "execute_result",
          "data": {
            "text/plain": [
              "(2891, 128, 128, 3)"
            ]
          },
          "metadata": {},
          "execution_count": 3
        }
      ]
    },
    {
      "cell_type": "code",
      "metadata": {
        "colab": {
          "base_uri": "https://localhost:8080/"
        },
        "id": "jsREQ4eMO-Z2",
        "outputId": "0c0fbacb-adb1-454b-d46b-9db62819e3cb"
      },
      "source": [
        "result = np.array(result)\n",
        "len(result)\n",
        "result = result.reshape(2891,2)\n",
        "print(result)"
      ],
      "execution_count": 11,
      "outputs": [
        {
          "output_type": "stream",
          "text": [
            "[[1. 0.]\n",
            " [1. 0.]\n",
            " [1. 0.]\n",
            " ...\n",
            " [0. 1.]\n",
            " [0. 1.]\n",
            " [0. 1.]]\n"
          ],
          "name": "stdout"
        }
      ]
    },
    {
      "cell_type": "code",
      "metadata": {
        "id": "fWrU3npYV9zb"
      },
      "source": [
        "x_train,x_test,y_train,y_test = train_test_split(data, result, test_size=0.2, shuffle=True, random_state=0)"
      ],
      "execution_count": 12,
      "outputs": []
    },
    {
      "cell_type": "code",
      "metadata": {
        "colab": {
          "base_uri": "https://localhost:8080/"
        },
        "id": "NNSXIgCCWBNj",
        "outputId": "92d7da5f-850c-4f81-acbf-45ae1cf130e1"
      },
      "source": [
        "model = Sequential()\n",
        "\n",
        "model.add(Conv2D(32, kernel_size=(2, 2), input_shape=(128, 128, 3), padding = 'Same'))\n",
        "model.add(Conv2D(32, kernel_size=(2, 2),  activation ='relu', padding = 'Same'))\n",
        "\n",
        "\n",
        "model.add(BatchNormalization())\n",
        "model.add(MaxPooling2D(pool_size=(2, 2)))\n",
        "model.add(Dropout(0.25))\n",
        "\n",
        "model.add(Conv2D(64, kernel_size = (2,2), activation ='relu', padding = 'Same'))\n",
        "model.add(Conv2D(64, kernel_size = (2,2), activation ='relu', padding = 'Same'))\n",
        "\n",
        "model.add(BatchNormalization())\n",
        "model.add(MaxPooling2D(pool_size=(2,2), strides=(2,2)))\n",
        "model.add(Dropout(0.25))\n",
        "\n",
        "model.add(Flatten())\n",
        "\n",
        "model.add(Dense(512, activation='relu'))\n",
        "model.add(Dropout(0.5))\n",
        "model.add(Dense(2, activation='softmax'))\n",
        "\n",
        "model.compile(loss = \"categorical_crossentropy\", optimizer='Adamax')\n",
        "#print(model.summary())\n",
        "\n",
        "\n",
        "y_train.shape\n",
        "\n",
        "history = model.fit(x_train, y_train, epochs = 11, batch_size = 40, verbose = 1,validation_data = (x_test, y_test))"
      ],
      "execution_count": 13,
      "outputs": [
        {
          "output_type": "stream",
          "text": [
            "Epoch 1/11\n",
            "58/58 [==============================] - 149s 3s/step - loss: 8.9150 - val_loss: 0.8283\n",
            "Epoch 2/11\n",
            "58/58 [==============================] - 151s 3s/step - loss: 0.4413 - val_loss: 0.4480\n",
            "Epoch 3/11\n",
            "58/58 [==============================] - 149s 3s/step - loss: 0.2370 - val_loss: 0.3883\n",
            "Epoch 4/11\n",
            "58/58 [==============================] - 141s 2s/step - loss: 0.1719 - val_loss: 0.4002\n",
            "Epoch 5/11\n",
            "58/58 [==============================] - 142s 2s/step - loss: 0.1379 - val_loss: 0.3790\n",
            "Epoch 6/11\n",
            "58/58 [==============================] - 134s 2s/step - loss: 0.1222 - val_loss: 0.3492\n",
            "Epoch 7/11\n",
            "58/58 [==============================] - 133s 2s/step - loss: 0.0925 - val_loss: 0.3257\n",
            "Epoch 8/11\n",
            "58/58 [==============================] - 134s 2s/step - loss: 0.0812 - val_loss: 0.3358\n",
            "Epoch 9/11\n",
            "58/58 [==============================] - 134s 2s/step - loss: 0.0655 - val_loss: 0.2986\n",
            "Epoch 10/11\n",
            "58/58 [==============================] - 134s 2s/step - loss: 0.0544 - val_loss: 0.2806\n",
            "Epoch 11/11\n",
            "58/58 [==============================] - 135s 2s/step - loss: 0.0496 - val_loss: 0.3131\n"
          ],
          "name": "stdout"
        }
      ]
    },
    {
      "cell_type": "code",
      "metadata": {
        "id": "KgjAedSpcPRf"
      },
      "source": [
        "def names(number):\n",
        "    if number==0:\n",
        "        return 'it has  a Tumor'\n",
        "        a==1\n",
        "    else:\n",
        "        return 'there are no tumor'\n",
        "        a==0"
      ],
      "execution_count": 23,
      "outputs": []
    },
    {
      "cell_type": "code",
      "metadata": {
        "colab": {
          "base_uri": "https://localhost:8080/"
        },
        "id": "5gl6Wb5bdOpl",
        "outputId": "ae64bb32-390b-44e4-ea4a-74d17fce9a93"
      },
      "source": [
        "import gc\n",
        "import pickle\n",
        "from google.colab import drive\n",
        "drive.mount('/content/drive', force_remount=True)\n",
        "\n",
        "pick_insert = open('drive/My Drive/data.pickle','wb')\n",
        "pickle.dump(data, pick_insert)\n",
        "pick_insert.close()"
      ],
      "execution_count": 17,
      "outputs": [
        {
          "output_type": "stream",
          "text": [
            "Mounted at /content/drive\n"
          ],
          "name": "stdout"
        }
      ]
    },
    {
      "cell_type": "code",
      "metadata": {
        "colab": {
          "base_uri": "https://localhost:8080/",
          "height": 300
        },
        "id": "faQYrUfQf2St",
        "outputId": "3a48608a-ece3-4c72-a3e1-4253ddd8258e"
      },
      "source": [
        "import matplotlib.pyplot as plt\n",
        "img = Image.open(r\"/content/pred53.jpg\")\n",
        "plt.xlabel('Sample Image')\n",
        "plt.imshow(img)\n",
        "x = np.array(img.resize((128,128)))\n",
        "x = x.reshape(1,128,128,3)\n",
        "res = model.predict_on_batch(x)\n",
        "classification = np.where(res == np.amax(res))[1][0]\n",
        "\n",
        "print(str(res[0][classification]*100) + '% Confidence ' + names(classification))"
      ],
      "execution_count": 24,
      "outputs": [
        {
          "output_type": "stream",
          "text": [
            "99.63797926902771% Confidence there are no tumor\n"
          ],
          "name": "stdout"
        },
        {
          "output_type": "display_data",
          "data": {
            "image/png": "[encoded data removed]",
            "text/plain": [
              "<Figure size 432x288 with 1 Axes>"
            ]
          },
          "metadata": {
            "needs_background": "dark"
          }
        }
      ]
    }
  ]
}